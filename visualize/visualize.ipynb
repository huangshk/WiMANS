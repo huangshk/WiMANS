{
 "cells": [
  {
   "attachments": {},
   "cell_type": "markdown",
   "metadata": {},
   "source": [
    "# Extract Frames from Video"
   ]
  },
  {
   "cell_type": "code",
   "execution_count": null,
   "metadata": {},
   "outputs": [],
   "source": [
    "#\n",
    "##\n",
    "import torchvision\n",
    "#\n",
    "## define video to extract frames from\n",
    "var_path_video = \"../data/video/act_49_41.mp4\"\n",
    "var_name = var_path_video.split(\"/\")[-1].split(\".\")[0]\n",
    "#\n",
    "## define frames to extract\n",
    "var_frame_index = list(range(0, 90, 1))\n",
    "print(var_name, var_frame_index)"
   ]
  },
  {
   "cell_type": "code",
   "execution_count": null,
   "metadata": {},
   "outputs": [],
   "source": [
    "#\n",
    "## read video\n",
    "data_frame, _, var_info = torchvision.io.read_video(var_path_video)\n",
    "data_frame.shape"
   ]
  },
  {
   "cell_type": "code",
   "execution_count": null,
   "metadata": {},
   "outputs": [],
   "source": [
    "#\n",
    "##\n",
    "for var_i in var_frame_index:\n",
    "    #\n",
    "    data_image = data_frame[var_i].permute(2, 0, 1)\n",
    "    #\n",
    "    torchvision.io.write_jpeg(data_image, var_name + \"_\" + str(var_i) + \".jpg\", 100)\n"
   ]
  },
  {
   "attachments": {},
   "cell_type": "markdown",
   "metadata": {},
   "source": [
    "# Visualize WiFi CSI"
   ]
  },
  {
   "cell_type": "code",
   "execution_count": null,
   "metadata": {},
   "outputs": [],
   "source": [
    "import os\n",
    "import numpy as np\n",
    "import pandas as pd\n",
    "import scipy.io as scio\n",
    "import matplotlib.pyplot as plt\n",
    "from sklearn.preprocessing import OneHotEncoder, StandardScaler, MinMaxScaler, MaxAbsScaler, Normalizer"
   ]
  },
  {
   "cell_type": "code",
   "execution_count": null,
   "metadata": {},
   "outputs": [],
   "source": [
    "#\n",
    "##\n",
    "var_path_mat = \"../data/csi/mat/act_49_41.mat\"\n",
    "data_mat = scio.loadmat(var_path_mat)"
   ]
  },
  {
   "cell_type": "code",
   "execution_count": null,
   "metadata": {},
   "outputs": [],
   "source": [
    "#\n",
    "##\n",
    "var_length = data_mat[\"trace\"].shape[0]\n",
    "#\n",
    "## \n",
    "data_csi_amp = []\n",
    "for var_t in range(var_length):\n",
    "    data_csi_amp.append(abs(data_mat[\"trace\"][var_t][0][0][0][-1]))\n",
    "#\n",
    "data_csi_amp = np.array(data_csi_amp, dtype = np.float32)\n",
    "#\n",
    "print(data_csi_amp.shape)"
   ]
  },
  {
   "cell_type": "code",
   "execution_count": null,
   "metadata": {},
   "outputs": [],
   "source": [
    "#\n",
    "##\n",
    "data_csi_show = abs(data_csi_amp.reshape(data_csi_amp.shape[0], -1))\n",
    "print(data_csi_show.shape)\n",
    "#\n",
    "##\n",
    "data_csi_show = np.transpose(data_csi_show)\n",
    "var_x_encoder = MinMaxScaler() \n",
    "data_csi_show = var_x_encoder.fit_transform(data_csi_show)\n",
    "data_csi_show = np.transpose(data_csi_show)\n",
    "#\n",
    "##\n",
    "var_f, _ = plt.subplots(1, 1)\n",
    "plt.axis(\"off\")\n",
    "var_image = plt.imshow(data_csi_show.T, interpolation = \"none\", aspect = \"auto\", cmap = \"viridis\")"
   ]
  },
  {
   "cell_type": "code",
   "execution_count": null,
   "metadata": {},
   "outputs": [],
   "source": [
    "var_name = var_path_mat.split(\"/\")[-1].split(\".\")[0]\n",
    "var_f.savefig(var_name + \".png\", bbox_inches = \"tight\", pad_inches = 0, dpi = 600)"
   ]
  }
 ],
 "metadata": {
  "kernelspec": {
   "display_name": "Pytorch",
   "language": "python",
   "name": "python3"
  },
  "language_info": {
   "codemirror_mode": {
    "name": "ipython",
    "version": 3
   },
   "file_extension": ".py",
   "mimetype": "text/x-python",
   "name": "python",
   "nbconvert_exporter": "python",
   "pygments_lexer": "ipython3",
   "version": "3.9.12"
  },
  "orig_nbformat": 4
 },
 "nbformat": 4,
 "nbformat_minor": 2
}
