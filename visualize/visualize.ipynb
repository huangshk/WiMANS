{
 "cells": [
  {
   "attachments": {},
   "cell_type": "markdown",
   "metadata": {},
   "source": [
    "# Extract Frames from Video"
   ]
  },
  {
   "cell_type": "code",
   "execution_count": null,
   "metadata": {},
   "outputs": [],
   "source": [
    "#\n",
    "##\n",
    "import torchvision\n",
    "#\n",
    "## define video to extract frames from\n",
    "var_path_video = \"../dataset/video/act_49_41.mp4\"\n",
    "var_name = var_path_video.split(\"/\")[-1].split(\".\")[0]\n",
    "#\n",
    "## define frames to extract\n",
    "var_frame_index = list(range(0, 90, 1))\n",
    "print(var_name, var_frame_index)"
   ]
  },
  {
   "cell_type": "code",
   "execution_count": null,
   "metadata": {},
   "outputs": [],
   "source": [
    "#\n",
    "## read video\n",
    "data_frame, _, var_info = torchvision.io.read_video(var_path_video)\n",
    "data_frame.shape"
   ]
  },
  {
   "cell_type": "code",
   "execution_count": null,
   "metadata": {},
   "outputs": [],
   "source": [
    "#\n",
    "##\n",
    "for var_i in var_frame_index:\n",
    "    #\n",
    "    data_image = data_frame[var_i].permute(2, 0, 1)\n",
    "    #\n",
    "    torchvision.io.write_jpeg(data_image, var_name + \"_\" + str(var_i) + \".jpg\", 100)\n"
   ]
  },
  {
   "attachments": {},
   "cell_type": "markdown",
   "metadata": {},
   "source": [
    "# Visualize WiFi CSI"
   ]
  },
  {
   "cell_type": "code",
   "execution_count": null,
   "metadata": {},
   "outputs": [],
   "source": [
    "import os\n",
    "import numpy as np\n",
    "import pandas as pd\n",
    "import scipy.io as scio\n",
    "import matplotlib.pyplot as plt\n",
    "from sklearn.preprocessing import OneHotEncoder, StandardScaler, MinMaxScaler, MaxAbsScaler, Normalizer"
   ]
  },
  {
   "cell_type": "code",
   "execution_count": null,
   "metadata": {},
   "outputs": [],
   "source": [
    "#\n",
    "##\n",
    "var_path_mat = \"../dataset/wifi_csi/mat/act_49_41.mat\"\n",
    "data_mat = scio.loadmat(var_path_mat)"
   ]
  },
  {
   "cell_type": "code",
   "execution_count": null,
   "metadata": {},
   "outputs": [],
   "source": [
    "#\n",
    "##\n",
    "var_length = data_mat[\"trace\"].shape[0]\n",
    "#\n",
    "## \n",
    "data_csi_amp = []\n",
    "for var_t in range(var_length):\n",
    "    data_csi_amp.append(abs(data_mat[\"trace\"][var_t][0][0][0][-1]))\n",
    "#\n",
    "data_csi_amp = np.array(data_csi_amp, dtype = np.float32)\n",
    "#\n",
    "print(data_csi_amp.shape)"
   ]
  },
  {
   "cell_type": "code",
   "execution_count": null,
   "metadata": {},
   "outputs": [],
   "source": [
    "#\n",
    "##\n",
    "data_csi_show = abs(data_csi_amp.reshape(data_csi_amp.shape[0], -1))\n",
    "print(data_csi_show.shape)\n",
    "#\n",
    "##\n",
    "data_csi_show = np.transpose(data_csi_show)\n",
    "var_x_encoder = MinMaxScaler() \n",
    "data_csi_show = var_x_encoder.fit_transform(data_csi_show)\n",
    "data_csi_show = np.transpose(data_csi_show)\n",
    "#\n",
    "##\n",
    "var_f, _ = plt.subplots(1, 1)\n",
    "plt.axis(\"off\")\n",
    "var_image = plt.imshow(data_csi_show.T, interpolation = \"none\", aspect = \"auto\", cmap = \"viridis\")"
   ]
  },
  {
   "cell_type": "code",
   "execution_count": null,
   "metadata": {},
   "outputs": [],
   "source": [
    "var_name = var_path_mat.split(\"/\")[-1].split(\".\")[0]\n",
    "var_f.savefig(var_name + \".png\", bbox_inches = \"tight\", pad_inches = 0, dpi = 600)"
   ]
  },
  {
   "attachments": {},
   "cell_type": "markdown",
   "metadata": {},
   "source": [
    "# Dataset Statistic"
   ]
  },
  {
   "cell_type": "code",
   "execution_count": 1,
   "metadata": {},
   "outputs": [],
   "source": [
    "#\n",
    "##\n",
    "import pandas as pd\n",
    "#\n",
    "data_pd_y = pd.read_csv(\"../dataset/annotation.csv\")"
   ]
  },
  {
   "cell_type": "code",
   "execution_count": 6,
   "metadata": {},
   "outputs": [
    {
     "name": "stdout",
     "output_type": "stream",
     "text": [
      "nothing     528\n",
      "walk        528\n",
      "rotation    528\n",
      "jump        528\n",
      "wave        528\n",
      "lie_down    528\n",
      "pick_up     528\n",
      "sit_down    528\n",
      "stand_up    528\n",
      "Name: user_1_activity, dtype: int64\n",
      "walk        528\n",
      "rotation    528\n",
      "jump        528\n",
      "wave        528\n",
      "lie_down    528\n",
      "pick_up     528\n",
      "sit_down    528\n",
      "stand_up    528\n",
      "nothing     528\n",
      "Name: user_2_activity, dtype: int64\n",
      "rotation    528\n",
      "jump        528\n",
      "wave        528\n",
      "lie_down    528\n",
      "pick_up     528\n",
      "sit_down    528\n",
      "stand_up    528\n",
      "nothing     528\n",
      "walk        528\n",
      "Name: user_3_activity, dtype: int64\n",
      "jump        528\n",
      "wave        528\n",
      "lie_down    528\n",
      "pick_up     528\n",
      "sit_down    528\n",
      "stand_up    528\n",
      "nothing     528\n",
      "walk        528\n",
      "rotation    528\n",
      "Name: user_4_activity, dtype: int64\n",
      "wave        528\n",
      "lie_down    528\n",
      "pick_up     528\n",
      "sit_down    528\n",
      "stand_up    528\n",
      "nothing     528\n",
      "walk        528\n",
      "rotation    528\n",
      "jump        528\n",
      "Name: user_5_activity, dtype: int64\n",
      "nothing     528\n",
      "walk        528\n",
      "rotation    528\n",
      "jump        528\n",
      "wave        528\n",
      "lie_down    528\n",
      "pick_up     528\n",
      "sit_down    528\n",
      "stand_up    528\n",
      "Name: user_6_activity, dtype: int64\n"
     ]
    }
   ],
   "source": [
    "var_column = [\"user_1_activity\", \"user_2_activity\", \"user_3_activity\", \"user_4_activity\", \"user_5_activity\", \"user_6_activity\"]\n",
    "for var_c in var_column:\n",
    "    print(data_pd_y[var_c].value_counts())"
   ]
  },
  {
   "cell_type": "code",
   "execution_count": 9,
   "metadata": {},
   "outputs": [
    {
     "name": "stdout",
     "output_type": "stream",
     "text": [
      "a    1296\n",
      "b     864\n",
      "c     864\n",
      "d     864\n",
      "e     864\n",
      "Name: user_1_location, dtype: int64\n",
      "a     864\n",
      "b    1296\n",
      "c     864\n",
      "d     864\n",
      "e     864\n",
      "Name: user_2_location, dtype: int64\n",
      "a     864\n",
      "b     864\n",
      "c    1296\n",
      "d     864\n",
      "e     864\n",
      "Name: user_3_location, dtype: int64\n",
      "a     864\n",
      "b     864\n",
      "c     864\n",
      "d    1296\n",
      "e     864\n",
      "Name: user_4_location, dtype: int64\n",
      "a     864\n",
      "b     864\n",
      "c     864\n",
      "d     864\n",
      "e    1296\n",
      "Name: user_5_location, dtype: int64\n",
      "a    1134\n",
      "b    1026\n",
      "c     864\n",
      "d     864\n",
      "e     864\n",
      "Name: user_6_location, dtype: int64\n"
     ]
    }
   ],
   "source": [
    "var_column = [\"user_1_location\", \"user_2_location\", \"user_3_location\", \"user_4_location\", \"user_5_location\", \"user_6_location\"]\n",
    "for var_c in var_column:\n",
    "    print(data_pd_y[var_c].value_counts().sort_index())"
   ]
  }
 ],
 "metadata": {
  "kernelspec": {
   "display_name": "Pytorch",
   "language": "python",
   "name": "python3"
  },
  "language_info": {
   "codemirror_mode": {
    "name": "ipython",
    "version": 3
   },
   "file_extension": ".py",
   "mimetype": "text/x-python",
   "name": "python",
   "nbconvert_exporter": "python",
   "pygments_lexer": "ipython3",
   "version": "3.9.12"
  },
  "orig_nbformat": 4
 },
 "nbformat": 4,
 "nbformat_minor": 2
}
